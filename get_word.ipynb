{
 "cells": [
  {
   "cell_type": "code",
   "execution_count": 1,
   "id": "ab97b091",
   "metadata": {},
   "outputs": [],
   "source": [
    "import pandas as pd\n",
    "import numpy as np"
   ]
  },
  {
   "cell_type": "code",
   "execution_count": 15,
   "id": "0e6314e6",
   "metadata": {},
   "outputs": [],
   "source": [
    "alpha = [x for x in range(65, 91)]"
   ]
  },
  {
   "cell_type": "code",
   "execution_count": 20,
   "id": "d1418e15",
   "metadata": {},
   "outputs": [],
   "source": [
    "wl = []\n",
    "for item in alpha:\n",
    "    item = 'Word lists in csv/' + chr(item) + 'word.csv'\n",
    "    handle = open(item, 'r')\n",
    "    for line in handle:\n",
    "        line = line.strip()\n",
    "        wl.append(line)\n",
    "    handle.close()"
   ]
  },
  {
   "cell_type": "code",
   "execution_count": 23,
   "id": "eb81247b",
   "metadata": {},
   "outputs": [],
   "source": [
    "res = []\n",
    "for item in wl:\n",
    "    if len(item) == 5:\n",
    "        res.append(item)"
   ]
  },
  {
   "cell_type": "code",
   "execution_count": 28,
   "id": "4ad5e8f3",
   "metadata": {},
   "outputs": [],
   "source": [
    "res1 = []\n",
    "for item in res:\n",
    "    if item[1] == 'u' and 'a' in item:\n",
    "        res1.append(item)"
   ]
  },
  {
   "cell_type": "code",
   "execution_count": 37,
   "id": "7f8e7bfd",
   "metadata": {},
   "outputs": [],
   "source": [
    "res2 = []\n",
    "for item in res1:\n",
    "    if 'v' not in item and 'e' not in item and 'g' not in item and 'd' not in item and 'i' not in item and 't' not in item and item[0] != 'a':\n",
    "        res2.append(item)"
   ]
  },
  {
   "cell_type": "code",
   "execution_count": 36,
   "id": "0fe13e4b",
   "metadata": {},
   "outputs": [
    {
     "name": "stdout",
     "output_type": "stream",
     "text": [
      "musal\n",
      "pupal\n"
     ]
    }
   ],
   "source": [
    "for item in res2:\n",
    "    if item[-2] == 'a' and 'l' in item and item[-1] == 'l' and 'r' not in item:\n",
    "        print(item)"
   ]
  }
 ],
 "metadata": {
  "kernelspec": {
   "display_name": "Python 3",
   "language": "python",
   "name": "python3"
  },
  "language_info": {
   "codemirror_mode": {
    "name": "ipython",
    "version": 3
   },
   "file_extension": ".py",
   "mimetype": "text/x-python",
   "name": "python",
   "nbconvert_exporter": "python",
   "pygments_lexer": "ipython3",
   "version": "3.8.8"
  }
 },
 "nbformat": 4,
 "nbformat_minor": 5
}
